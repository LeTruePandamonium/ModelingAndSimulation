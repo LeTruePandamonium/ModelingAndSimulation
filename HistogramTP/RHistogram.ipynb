{
 "cells": [
  {
   "cell_type": "code",
   "execution_count": 1,
   "id": "1265acf3-fcaf-40a1-9c08-3e31321a51e2",
   "metadata": {},
   "outputs": [
    {
     "name": "stdout",
     "output_type": "stream",
     "text": [
      "'data.frame':\t1945 obs. of  48 variables:\n",
      " $ Year                                      : int  2017 2017 2017 2017 2017 2017 2017 2017 2017 2017 ...\n",
      " $ Regional.code                             : int  0 40 80 120 200 240 280 310 320 360 ...\n",
      " $ Country                                   : chr  \"total\" \"Afghanistan\" \"Albania\" \"Algeria\" ...\n",
      " $ Number.of.issued                          : int  5869012 1005 252 899 5 111 41 619 450 3887 ...\n",
      " $ Number.of.issued_numerical                : int  741415 46 7 19 0 12 8 8 0 281 ...\n",
      " $ Travel.certificate                        : int  389 0 0 0 0 75 0 0 0 0 ...\n",
      " $ Diplomacy                                 : int  4862 14 0 8 0 9 1 31 0 54 ...\n",
      " $ Public.use                                : int  16402 112 2 11 0 7 0 20 1 220 ...\n",
      " $ Passing                                   : int  8518 0 1 3 0 0 0 0 0 0 ...\n",
      " $ Short..term.stay                          : int  5392838 224 200 813 0 67 28 505 0 5 ...\n",
      " $ Staying.in.medical.care                   : int  1383 0 0 0 0 0 0 0 0 0 ...\n",
      " $ Advanced.profession                       : int  409 0 0 0 0 0 0 1 0 8 ...\n",
      " $ Employment                                : int  91335 38 8 25 3 0 0 14 209 1501 ...\n",
      " $ Employment_Professor                      : int  2962 0 1 2 0 0 0 2 3 86 ...\n",
      " $ Employment_Art                            : int  389 0 0 0 0 0 0 0 44 6 ...\n",
      " $ Employment_religion                       : int  973 0 0 0 0 0 0 0 2 22 ...\n",
      " $ Employment_Report                         : int  85 0 0 0 0 0 0 1 0 3 ...\n",
      " $ Employment_Management...Management        : int  1704 0 0 0 0 0 0 0 0 33 ...\n",
      " $ Employment_Law.accounting                 : int  5 0 0 0 0 0 0 0 0 0 ...\n",
      " $ Employment_Medical.care                   : int  62 0 0 0 0 0 0 0 0 0 ...\n",
      " $ Employment_Research                       : int  389 0 0 0 0 0 0 0 0 9 ...\n",
      " $ Employment_Education                      : int  3014 0 0 0 0 0 0 0 0 210 ...\n",
      " $ Employment_Country                        : int  25857 37 2 22 0 0 0 6 6 286 ...\n",
      " $ Employment_Technology                     : int  NA NA NA NA NA NA NA NA NA NA ...\n",
      " $ Employment_Humanities.International       : int  NA NA NA NA NA NA NA NA NA NA ...\n",
      " $ Employment_C.corporate.rotation           : int  8924 0 1 0 0 0 0 1 5 40 ...\n",
      " $ Employment_show                           : int  41606 0 2 1 2 0 0 4 129 692 ...\n",
      " $ Employment_Skills                         : int  3581 1 2 0 1 0 0 0 20 114 ...\n",
      " $ Employment_Steng..new.                    : int  1782 0 0 0 0 0 0 0 0 0 ...\n",
      " $ Employment_Nursing.care                   : int  2 0 0 0 0 0 0 0 0 0 ...\n",
      " $ Ordinary                                  : int  299712 604 41 37 2 28 12 46 147 758 ...\n",
      " $ General_Cultural.activity                 : int  3377 1 4 2 0 0 0 1 11 21 ...\n",
      " $ General_Studying.abroad                   : int  122843 66 9 14 2 3 0 22 33 586 ...\n",
      " $ General_Arademy                           : int  NA NA NA NA NA NA NA NA NA NA ...\n",
      " $ General_Training                          : int  16513 248 27 13 0 25 12 22 85 21 ...\n",
      " $ General_Family.stay                       : int  27375 289 1 8 0 0 0 1 13 130 ...\n",
      " $ General_Stifying.1.I                      : int  7477 0 0 0 0 0 0 0 5 0 ...\n",
      " $ General_Steng.1                           : int  122127 0 0 0 0 0 0 0 0 0 ...\n",
      " $ identification                            : int  53552 13 0 2 0 0 0 2 93 1341 ...\n",
      " $ Specific_housework.employee               : int  122 0 0 0 0 0 0 0 0 0 ...\n",
      " $ Specified_short.term                      : int  NA NA NA NA NA NA NA NA NA NA ...\n",
      " $ Specific_profit.representative.staff      : int  49 0 0 0 0 0 0 0 0 0 ...\n",
      " $ Specific_working.holiday                  : int  15521 0 0 0 0 0 0 0 45 1182 ...\n",
      " $ Specified_Amasport                        : int  77 0 0 0 0 0 0 0 0 21 ...\n",
      " $ Specific_Japanese.spouse..etc.            : int  10227 2 0 1 0 0 0 1 19 114 ...\n",
      " $ Specific_Permanent.resident.s.spouse..etc.: int  2181 3 0 1 0 0 0 1 2 4 ...\n",
      " $ Specified_Distingant                      : int  16945 8 0 0 0 0 0 0 25 2 ...\n",
      " $ Specific_Others                           : int  8431 0 0 0 0 0 0 0 2 18 ...\n",
      "package 'ggplot2' successfully unpacked and MD5 sums checked\n",
      "\n",
      "The downloaded binary packages are in\n",
      "\tC:\\Users\\Allen\\AppData\\Local\\Temp\\Rtmpi6CsI2\\downloaded_packages\n"
     ]
    },
    {
     "data": {
      "image/png": "[encoded data removed]",
      "text/plain": [
       "plot without title"
      ]
     },
     "metadata": {
      "image/png": {
       "height": 420,
       "width": 420
      }
     },
     "output_type": "display_data"
    }
   ],
   "source": [
    "# Load the CSV\n",
    "df <- read.csv(\"visa_number_in_japan.csv\")\n",
    "\n",
    "# View structure\n",
    "str(df)\n",
    "\n",
    "# Load ggplot2 for plotting\n",
    "install.packages(\"ggplot2\")\n",
    "library(ggplot2)\n",
    "\n",
    "# Create a bar plot\n",
    "ggplot(df, aes(x = Year, y = Number.of.issued_numerical)) +\n",
    "  geom_bar(stat = \"identity\") +\n",
    "  labs(title = \"Total Visas Issued per Year in Japan\",\n",
    "       x = \"Year\", y = \"Visas Issued\") +\n",
    "  theme_minimal()\n"
   ]
  },
  {
   "cell_type": "code",
   "execution_count": null,
   "id": "53e81d35-502b-433c-a7a5-4da495313b66",
   "metadata": {},
   "outputs": [],
   "source": []
  }
 ],
 "metadata": {
  "kernelspec": {
   "display_name": "R",
   "language": "R",
   "name": "ir"
  },
  "language_info": {
   "codemirror_mode": "r",
   "file_extension": ".r",
   "mimetype": "text/x-r-source",
   "name": "R",
   "pygments_lexer": "r",
   "version": "4.5.0"
  }
 },
 "nbformat": 4,
 "nbformat_minor": 5
}
